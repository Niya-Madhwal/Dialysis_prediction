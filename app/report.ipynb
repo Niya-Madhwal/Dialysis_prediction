 "cells": [
  {
   "cell_type": "code",
   "execution_count": 1,
   "id": "f785a551",
   "metadata": {},
   "outputs": [],
   "source": [
    "import os\n",
    "from dotenv import load_dotenv\n",
    "load_dotenv()\n",
    "import pandas as pd\n"
   ]
  },
  {
   "cell_type": "code",
   "execution_count": 2,
   "id": "f109f7df",
   "metadata": {},
   "outputs": [
  },
  {
   "cell_type": "code",
   "execution_count": 3,
   "id": "8144e6ea",
   "metadata": {},
   "outputs": [],
  },
  {
   "cell_type": "code",
   "execution_count": 4,
   "id": "5aff9123",
   "metadata": {},
   "outputs": [
       "[5 rows x 27 columns]"
      ]
     },
     "execution_count": 4,
     "metadata": {},
     "output_type": "execute_result"
    }
  },
  {
   "cell_type": "code",
   "execution_count": 5,
   "id": "f12109c4",
   "metadata": {},
   "outputs": [],
  },
  {
   "cell_type": "code",
   "execution_count": 6,
   "id": "20be7fd2",
   "metadata": {},
   "outputs": [
       "dtype: int64"
      ]
     },
     "execution_count": 6,
     "metadata": {},
     "output_type": "execute_result"
    }
  },
  {
   "cell_type": "code",
   "execution_count": 7,
   "id": "79ec8610",
   "metadata": {},
   "outputs": [],
  },
  {
   "cell_type": "code",
   "execution_count": 8,
   "id": "4f964c36",
   "metadata": {},
   "outputs": [
       "[5 rows x 27 columns]"
      ]
     },
     "execution_count": 8,
     "metadata": {},
     "output_type": "execute_result"
    }
  },
  {
   "cell_type": "code",
   "execution_count": 9,
   "id": "d83bea1c",
   "metadata": {},
   "outputs": [],
  },
  {
   "cell_type": "code",
   "execution_count": 10,
   "id": "01f966db",
   "metadata": {},
   "outputs": [
       "\twith 5000 stored elements and shape (5000, 3)>"
      ]
     },
     "execution_count": 10,
     "metadata": {},
     "output_type": "execute_result"
    }
  },
  {
   "cell_type": "code",
   "execution_count": 11,
   "id": "932d008c",
   "metadata": {},
   "outputs": [
       "\twith 5000 stored elements and shape (5000, 2)>"
      ]
     },
     "execution_count": 11,
     "metadata": {},
     "output_type": "execute_result"
    }
  },
  {
   "cell_type": "code",
   "execution_count": 12,
   "id": "91cc45d4",
   "metadata": {},
   "outputs": [],
  },
  {
   "cell_type": "code",
   "execution_count": 13,
   "id": "fa2a9dc0",
   "metadata": {},
   "outputs": [],
  },
  {
   "cell_type": "code",
   "execution_count": 14,
   "id": "060abb67",
   "metadata": {},
   "outputs": [
       "[5 rows x 30 columns]"
      ]
     },
     "execution_count": 14,
     "metadata": {},
     "output_type": "execute_result"
    }
  },
  {
   "cell_type": "code",
   "execution_count": 15,
   "id": "094ad014",
   "metadata": {},
   "outputs": [],
  },
  {
   "cell_type": "code",
   "execution_count": 16,
   "id": "ca6a2480",
   "metadata": {},
   "outputs": [
       "[5 rows x 24 columns]"
      ]
     },
     "execution_count": 16,
     "metadata": {},
     "output_type": "execute_result"
    }
  },
  {
   "cell_type": "code",
   "execution_count": 17,
   "id": "b1cacdbf",
   "metadata": {},
   "outputs": [],
  },
  {
   "cell_type": "code",
   "execution_count": 18,
   "id": "8a4b58ab",
   "metadata": {},
   "outputs": [
       "4                      1.0  "
      ]
     },
     "execution_count": 18,
     "metadata": {},
     "output_type": "execute_result"
    }
  },
  {
   "cell_type": "code",
   "execution_count": 19,
   "id": "3f298cf6",
   "metadata": {},
   "outputs": [
    {
     "name": "stdout",
     "output_type": "stream",
     "text": [
      "<class 'pandas.core.frame.DataFrame'>\n",
      "RangeIndex: 5000 entries, 0 to 4999\n",
      "Data columns (total 19 columns):\n",
      " #   Column                         Non-Null Count  Dtype  \n",
      "---  ------                         --------------  -----  \n",
      " 0   Age                            5000 non-null   int64  \n",
      " 1   Gender                         5000 non-null   int64  \n",
      " 2   Weight                         5000 non-null   float64\n",
      " 3   Diabetes                       5000 non-null   int64  \n",
      " 4   Hypertension                   5000 non-null   int64  \n",
      " 5   Creatinine                     5000 non-null   float64\n",
      " 6   Urea                           5000 non-null   float64\n",
      " 7   Potassium                      5000 non-null   float64\n",
      " 8   Hemoglobin                     5000 non-null   float64\n",
      " 9   Dialysis Frequency (per week)  5000 non-null   int64  \n",
      " 10  Kt/V                           5000 non-null   float64\n",
      " 11  URR                            5000 non-null   float64\n",
      " 12  Urine Output (ml/day)          5000 non-null   int64  \n",
      " 13  Dry Weight (kg)                5000 non-null   float64\n",
      " 14  Dialyzer Type_High-flux        5000 non-null   float64\n",
      " 15  Dialyzer Type_Low-flux         5000 non-null   float64\n",
      " 16  Disease Severity_Mild          5000 non-null   float64\n",
      " 17  Disease Severity_Moderate      5000 non-null   float64\n",
      " 18  Disease Severity_Severe        5000 non-null   float64\n",
      "dtypes: float64(13), int64(6)\n",
      "memory usage: 742.3 KB\n"
     ]
    }
   ],
   "source": [
    "data.info()"
   ]
  },
  {
   "cell_type": "code",
   "execution_count": 20,
   "id": "fbb3deba",
   "metadata": {},
   "outputs": [],
   "source": [
    "#training the model\n",
    "from sklearn.model_selection import train_test_split\n",
    "from sklearn.metrics import classification_report\n",
    "import pandas as pd\n",
    "from xgboost import XGBClassifier"
   ]
  },
  {
   "cell_type": "code",
   "execution_count": 21,
   "id": "1a63536d",
   "metadata": {},
   "outputs": [],
   "source": [
    "data['Dialysis Frequency (per week)'] = label_encode.fit_transform(data['Dialysis Frequency (per week)'])"
   ]
  },
  {
   "cell_type": "code",
   "execution_count": 22,
   "id": "069a46b1",
   "metadata": {},
   "outputs": [
    {
     "data": {
      "text/html": [
       "<div>\n",
       "<style scoped>\n",
       "    .dataframe tbody tr th:only-of-type {\n",
       "        vertical-align: middle;\n",
       "    }\n",
       "\n",
       "    .dataframe tbody tr th {\n",
       "        vertical-align: top;\n",
       "    }\n",
       "\n",
       "    .dataframe thead th {\n",
       "        text-align: right;\n",
       "    }\n",
       "</style>\n",
       "<table border=\"1\" class=\"dataframe\">\n",
       "  <thead>\n",
       "    <tr style=\"text-align: right;\">\n",
       "      <th></th>\n",
       "      <th>Age</th>\n",
       "      <th>Gender</th>\n",
       "      <th>Weight</th>\n",
       "      <th>Diabetes</th>\n",
       "      <th>Hypertension</th>\n",
       "      <th>Creatinine</th>\n",
       "      <th>Urea</th>\n",
       "      <th>Potassium</th>\n",
       "      <th>Hemoglobin</th>\n",
       "      <th>Dialysis Frequency (per week)</th>\n",
       "      <th>Kt/V</th>\n",
       "      <th>URR</th>\n",
       "      <th>Urine Output (ml/day)</th>\n",
       "      <th>Dry Weight (kg)</th>\n",
       "      <th>Dialyzer Type_High-flux</th>\n",
       "      <th>Dialyzer Type_Low-flux</th>\n",
       "      <th>Disease Severity_Mild</th>\n",
       "      <th>Disease Severity_Moderate</th>\n",
       "      <th>Disease Severity_Severe</th>\n",
       "    </tr>\n",
       "  </thead>\n",
       "  <tbody>\n",
       "    <tr>\n",
       "      <th>0</th>\n",
       "      <td>62</td>\n",
       "      <td>0</td>\n",
       "      <td>97.4</td>\n",
       "      <td>1</td>\n",
       "      <td>1</td>\n",
       "      <td>5.77</td>\n",
       "      <td>51.3</td>\n",
       "      <td>5.3</td>\n",
       "      <td>10.8</td>\n",
       "      <td>2</td>\n",
       "      <td>1.18</td>\n",
       "      <td>66.6</td>\n",
       "      <td>146</td>\n",
       "      <td>105.8</td>\n",
       "      <td>0.0</td>\n",
       "      <td>1.0</td>\n",
       "      <td>0.0</td>\n",
       "      <td>0.0</td>\n",
       "      <td>1.0</td>\n",
       "    </tr>\n",
       "    <tr>\n",
       "      <th>1</th>\n",
       "      <td>65</td>\n",
       "      <td>1</td>\n",
       "      <td>72.7</td>\n",
       "      <td>1</td>\n",
       "      <td>0</td>\n",
       "      <td>2.74</td>\n",
       "      <td>87.5</td>\n",
       "      <td>3.9</td>\n",
       "      <td>13.8</td>\n",
       "      <td>1</td>\n",
       "      <td>1.67</td>\n",
       "      <td>74.2</td>\n",
       "      <td>723</td>\n",
       "      <td>79.0</td>\n",
       "      <td>0.0</td>\n",
       "      <td>1.0</td>\n",
       "      <td>0.0</td>\n",
       "      <td>0.0</td>\n",
       "      <td>1.0</td>\n",
       "    </tr>\n",
       "    <tr>\n",
       "      <th>2</th>\n",
       "      <td>82</td>\n",
       "      <td>1</td>\n",
       "      <td>111.6</td>\n",
       "      <td>0</td>\n",
       "      <td>1</td>\n",
       "      <td>7.38</td>\n",
       "      <td>74.7</td>\n",
       "      <td>4.3</td>\n",
       "      <td>14.3</td>\n",
       "      <td>2</td>\n",
       "      <td>1.84</td>\n",
       "      <td>65.3</td>\n",
       "      <td>495</td>\n",
       "      <td>114.2</td>\n",
       "      <td>0.0</td>\n",
       "      <td>1.0</td>\n",
       "      <td>0.0</td>\n",
       "      <td>0.0</td>\n",
       "      <td>1.0</td>\n",
       "    </tr>\n",
       "    <tr>\n",
       "      <th>3</th>\n",
       "      <td>85</td>\n",
       "      <td>1</td>\n",
       "      <td>60.0</td>\n",
       "      <td>0</td>\n",
       "      <td>0</td>\n",
       "      <td>3.48</td>\n",
       "      <td>91.5</td>\n",
       "      <td>4.9</td>\n",
       "      <td>14.6</td>\n",
       "      <td>2</td>\n",
       "      <td>1.87</td>\n",
       "      <td>67.4</td>\n",
       "      <td>36</td>\n",
       "      <td>66.8</td>\n",
       "      <td>1.0</td>\n",
       "      <td>0.0</td>\n",
       "      <td>0.0</td>\n",
       "      <td>0.0</td>\n",
       "      <td>1.0</td>\n",
       "    </tr>\n",
       "    <tr>\n",
       "      <th>4</th>\n",
       "      <td>85</td>\n",
       "      <td>1</td>\n",
       "      <td>52.1</td>\n",
       "      <td>0</td>\n",
       "      <td>0</td>\n",
       "      <td>3.23</td>\n",
       "      <td>38.8</td>\n",
       "      <td>4.5</td>\n",
       "      <td>12.5</td>\n",
       "      <td>2</td>\n",
       "      <td>1.84</td>\n",
       "      <td>68.4</td>\n",
       "      <td>797</td>\n",
       "      <td>106.9</td>\n",
       "      <td>1.0</td>\n",
       "      <td>0.0</td>\n",
       "      <td>0.0</td>\n",
       "      <td>0.0</td>\n",
       "      <td>1.0</td>\n",
       "    </tr>\n",
       "  </tbody>\n",
       "</table>\n",
       "</div>"
      ],
      "text/plain": [
       "   Age  Gender  Weight  Diabetes  Hypertension  Creatinine  Urea  Potassium  \\\n",
       "0   62       0    97.4         1             1        5.77  51.3        5.3   \n",
       "1   65       1    72.7         1             0        2.74  87.5        3.9   \n",
       "2   82       1   111.6         0             1        7.38  74.7        4.3   \n",
       "3   85       1    60.0         0             0        3.48  91.5        4.9   \n",
       "4   85       1    52.1         0             0        3.23  38.8        4.5   \n",
       "\n",
       "   Hemoglobin  Dialysis Frequency (per week)  Kt/V   URR  \\\n",
       "0        10.8                              2  1.18  66.6   \n",
       "1        13.8                              1  1.67  74.2   \n",
       "2        14.3                              2  1.84  65.3   \n",
       "3        14.6                              2  1.87  67.4   \n",
       "4        12.5                              2  1.84  68.4   \n",
       "\n",
       "   Urine Output (ml/day)  Dry Weight (kg)  Dialyzer Type_High-flux  \\\n",
       "0                    146            105.8                      0.0   \n",
       "1                    723             79.0                      0.0   \n",
       "2                    495            114.2                      0.0   \n",
       "3                     36             66.8                      1.0   \n",
       "4                    797            106.9                      1.0   \n",
       "\n",
       "   Dialyzer Type_Low-flux  Disease Severity_Mild  Disease Severity_Moderate  \\\n",
       "0                     1.0                    0.0                        0.0   \n",
       "1                     1.0                    0.0                        0.0   \n",
       "2                     1.0                    0.0                        0.0   \n",
       "3                     0.0                    0.0                        0.0   \n",
       "4                     0.0                    0.0                        0.0   \n",
       "\n",
       "   Disease Severity_Severe  \n",
       "0                      1.0  \n",
       "1                      1.0  \n",
       "2                      1.0  \n",
       "3                      1.0  \n",
       "4                      1.0  "
      ]
     },
     "execution_count": 22,
     "metadata": {},
     "output_type": "execute_result"
    }
   ],
   "source": [
    "data.head()"
   ]
  },
  {
   "cell_type": "code",
   "execution_count": 23,
   "id": "5a28fb71",
   "metadata": {},
   "outputs": [],
   "source": [
    "X = data.drop([\"Dialysis Frequency (per week)\"], axis=1)\n",
    "y = data['Dialysis Frequency (per week)']"
   ]
  },
  {
   "cell_type": "code",
   "execution_count": 24,
   "id": "56bdd26f",
   "metadata": {},
   "outputs": [],
   "source": [
    "X_train, X_test, y_train, y_test = train_test_split(X, y, random_state=42, test_size=0.5)"
   ]
  },
  {
   "cell_type": "code",
   "execution_count": 25,
   "id": "da174afd",
   "metadata": {},
   "outputs": [
    {
     "data": {
      "text/plain": [
       "(2500, 18)"
      ]
     },
     "execution_count": 25,
     "metadata": {},
     "output_type": "execute_result"
    }
   ],
   "source": [
    "X_train.shape"
   ]
  },
  {
   "cell_type": "code",
   "execution_count": 26,
   "id": "9d8dee4e",
   "metadata": {},
   "outputs": [],
   "source": [
    "from sklearn.preprocessing import StandardScaler\n",
    "scaler = StandardScaler()\n",
    "X_train_scaled = scaler.fit_transform(X_train)\n",
    "X_test_scaled = scaler.transform(X_test)"
   ]
  },
  {
   "cell_type": "code",
   "execution_count": 27,
   "id": "4b0dc164",
   "metadata": {},
   "outputs": [
    {
     "name": "stderr",
     "output_type": "stream",
     "text": [
      "c:\\Users\\neha.mandwal\\.vscode\\Project\\Kidney-monitor\\venv\\Lib\\site-packages\\google\\protobuf\\runtime_version.py:98: UserWarning: Protobuf gencode version 5.28.3 is exactly one major version older than the runtime version 6.31.1 at tensorflow/core/framework/attr_value.proto. Please update the gencode to avoid compatibility violations in the next runtime release.\n",
      "  warnings.warn(\n",
      "c:\\Users\\neha.mandwal\\.vscode\\Project\\Kidney-monitor\\venv\\Lib\\site-packages\\google\\protobuf\\runtime_version.py:98: UserWarning: Protobuf gencode version 5.28.3 is exactly one major version older than the runtime version 6.31.1 at tensorflow/core/framework/tensor.proto. Please update the gencode to avoid compatibility violations in the next runtime release.\n",
      "  warnings.warn(\n",
      "c:\\Users\\neha.mandwal\\.vscode\\Project\\Kidney-monitor\\venv\\Lib\\site-packages\\google\\protobuf\\runtime_version.py:98: UserWarning: Protobuf gencode version 5.28.3 is exactly one major version older than the runtime version 6.31.1 at tensorflow/core/framework/resource_handle.proto. Please update the gencode to avoid compatibility violations in the next runtime release.\n",
      "  warnings.warn(\n",
      "c:\\Users\\neha.mandwal\\.vscode\\Project\\Kidney-monitor\\venv\\Lib\\site-packages\\google\\protobuf\\runtime_version.py:98: UserWarning: Protobuf gencode version 5.28.3 is exactly one major version older than the runtime version 6.31.1 at tensorflow/core/framework/tensor_shape.proto. Please update the gencode to avoid compatibility violations in the next runtime release.\n",
      "  warnings.warn(\n",
      "c:\\Users\\neha.mandwal\\.vscode\\Project\\Kidney-monitor\\venv\\Lib\\site-packages\\google\\protobuf\\runtime_version.py:98: UserWarning: Protobuf gencode version 5.28.3 is exactly one major version older than the runtime version 6.31.1 at tensorflow/core/framework/types.proto. Please update the gencode to avoid compatibility violations in the next runtime release.\n",
      "  warnings.warn(\n",
      "c:\\Users\\neha.mandwal\\.vscode\\Project\\Kidney-monitor\\venv\\Lib\\site-packages\\google\\protobuf\\runtime_version.py:98: UserWarning: Protobuf gencode version 5.28.3 is exactly one major version older than the runtime version 6.31.1 at tensorflow/core/framework/full_type.proto. Please update the gencode to avoid compatibility violations in the next runtime release.\n",
      "  warnings.warn(\n",
      "c:\\Users\\neha.mandwal\\.vscode\\Project\\Kidney-monitor\\venv\\Lib\\site-packages\\google\\protobuf\\runtime_version.py:98: UserWarning: Protobuf gencode version 5.28.3 is exactly one major version older than the runtime version 6.31.1 at tensorflow/core/framework/function.proto. Please update the gencode to avoid compatibility violations in the next runtime release.\n",
      "  warnings.warn(\n",
      "c:\\Users\\neha.mandwal\\.vscode\\Project\\Kidney-monitor\\venv\\Lib\\site-packages\\google\\protobuf\\runtime_version.py:98: UserWarning: Protobuf gencode version 5.28.3 is exactly one major version older than the runtime version 6.31.1 at tensorflow/core/framework/node_def.proto. Please update the gencode to avoid compatibility violations in the next runtime release.\n",
      "  warnings.warn(\n",
      "c:\\Users\\neha.mandwal\\.vscode\\Project\\Kidney-monitor\\venv\\Lib\\site-packages\\google\\protobuf\\runtime_version.py:98: UserWarning: Protobuf gencode version 5.28.3 is exactly one major version older than the runtime version 6.31.1 at tensorflow/core/framework/op_def.proto. Please update the gencode to avoid compatibility violations in the next runtime release.\n",
      "  warnings.warn(\n",
      "c:\\Users\\neha.mandwal\\.vscode\\Project\\Kidney-monitor\\venv\\Lib\\site-packages\\google\\protobuf\\runtime_version.py:98: UserWarning: Protobuf gencode version 5.28.3 is exactly one major version older than the runtime version 6.31.1 at tensorflow/core/framework/graph.proto. Please update the gencode to avoid compatibility violations in the next runtime release.\n",
      "  warnings.warn(\n",
      "c:\\Users\\neha.mandwal\\.vscode\\Project\\Kidney-monitor\\venv\\Lib\\site-packages\\google\\protobuf\\runtime_version.py:98: UserWarning: Protobuf gencode version 5.28.3 is exactly one major version older than the runtime version 6.31.1 at tensorflow/core/framework/graph_debug_info.proto. Please update the gencode to avoid compatibility violations in the next runtime release.\n",
      "  warnings.warn(\n",
      "c:\\Users\\neha.mandwal\\.vscode\\Project\\Kidney-monitor\\venv\\Lib\\site-packages\\google\\protobuf\\runtime_version.py:98: UserWarning: Protobuf gencode version 5.28.3 is exactly one major version older than the runtime version 6.31.1 at tensorflow/core/framework/versions.proto. Please update the gencode to avoid compatibility violations in the next runtime release.\n",
      "  warnings.warn(\n",
      "c:\\Users\\neha.mandwal\\.vscode\\Project\\Kidney-monitor\\venv\\Lib\\site-packages\\google\\protobuf\\runtime_version.py:98: UserWarning: Protobuf gencode version 5.28.3 is exactly one major version older than the runtime version 6.31.1 at tensorflow/core/protobuf/config.proto. Please update the gencode to avoid compatibility violations in the next runtime release.\n",
      "  warnings.warn(\n",
      "c:\\Users\\neha.mandwal\\.vscode\\Project\\Kidney-monitor\\venv\\Lib\\site-packages\\google\\protobuf\\runtime_version.py:98: UserWarning: Protobuf gencode version 5.28.3 is exactly one major version older than the runtime version 6.31.1 at xla/tsl/protobuf/coordination_config.proto. Please update the gencode to avoid compatibility violations in the next runtime release.\n",
      "  warnings.warn(\n",
      "c:\\Users\\neha.mandwal\\.vscode\\Project\\Kidney-monitor\\venv\\Lib\\site-packages\\google\\protobuf\\runtime_version.py:98: UserWarning: Protobuf gencode version 5.28.3 is exactly one major version older than the runtime version 6.31.1 at tensorflow/core/framework/cost_graph.proto. Please update the gencode to avoid compatibility violations in the next runtime release.\n",
      "  warnings.warn(\n",
      "c:\\Users\\neha.mandwal\\.vscode\\Project\\Kidney-monitor\\venv\\Lib\\site-packages\\google\\protobuf\\runtime_version.py:98: UserWarning: Protobuf gencode version 5.28.3 is exactly one major version older than the runtime version 6.31.1 at tensorflow/core/framework/step_stats.proto. Please update the gencode to avoid compatibility violations in the next runtime release.\n",
      "  warnings.warn(\n",
      "c:\\Users\\neha.mandwal\\.vscode\\Project\\Kidney-monitor\\venv\\Lib\\site-packages\\google\\protobuf\\runtime_version.py:98: UserWarning: Protobuf gencode version 5.28.3 is exactly one major version older than the runtime version 6.31.1 at tensorflow/core/framework/allocation_description.proto. Please update the gencode to avoid compatibility violations in the next runtime release.\n",
      "  warnings.warn(\n",
      "c:\\Users\\neha.mandwal\\.vscode\\Project\\Kidney-monitor\\venv\\Lib\\site-packages\\google\\protobuf\\runtime_version.py:98: UserWarning: Protobuf gencode version 5.28.3 is exactly one major version older than the runtime version 6.31.1 at tensorflow/core/framework/tensor_description.proto. Please update the gencode to avoid compatibility violations in the next runtime release.\n",
      "  warnings.warn(\n",
      "c:\\Users\\neha.mandwal\\.vscode\\Project\\Kidney-monitor\\venv\\Lib\\site-packages\\google\\protobuf\\runtime_version.py:98: UserWarning: Protobuf gencode version 5.28.3 is exactly one major version older than the runtime version 6.31.1 at tensorflow/core/protobuf/cluster.proto. Please update the gencode to avoid compatibility violations in the next runtime release.\n",
      "  warnings.warn(\n",
      "c:\\Users\\neha.mandwal\\.vscode\\Project\\Kidney-monitor\\venv\\Lib\\site-packages\\google\\protobuf\\runtime_version.py:98: UserWarning: Protobuf gencode version 5.28.3 is exactly one major version older than the runtime version 6.31.1 at tensorflow/core/protobuf/debug.proto. Please update the gencode to avoid compatibility violations in the next runtime release.\n",
      "  warnings.warn(\n"
     ]
    }
   ],
   "source": [
    "from tensorflow.keras.models import Sequential\n",
    "from tensorflow.keras.layers import Dense, LSTM\n"
   ]
  },
  {
   "cell_type": "code",
   "execution_count": 28,
   "id": "240344b8",
   "metadata": {},
   "outputs": [
    {
     "name": "stderr",
     "output_type": "stream",
     "text": [
      "c:\\Users\\neha.mandwal\\.vscode\\Project\\Kidney-monitor\\venv\\Lib\\site-packages\\keras\\src\\layers\\core\\dense.py:92: UserWarning: Do not pass an `input_shape`/`input_dim` argument to a layer. When using Sequential models, prefer using an `Input(shape)` object as the first layer in the model instead.\n",
      "  super().__init__(activity_regularizer=activity_regularizer, **kwargs)\n"
     ]
    }
   ],
   "source": [
    "model = Sequential()\n",
    "model.add(Dense(64, activation='relu', input_shape=(X_train_scaled.shape[1],)))\n",
    "model.add(Dense(32, activation='relu'))\n",
    "model.add(Dense(3, activation='linear')) "
   ]
  },
  {
   "cell_type": "code",
   "execution_count": 29,
   "id": "69cc0b21",
   "metadata": {},
   "outputs": [],
   "source": [
    "model.compile(optimizer='adam', loss='mse', metrics=['mae'])"
   ]
  },
  {
   "cell_type": "code",
   "execution_count": 30,
   "id": "c72742dc",
   "metadata": {},
   "outputs": [
    {
     "name": "stdout",
     "output_type": "stream",
     "text": [
      "Epoch 1/100\n",
      "\u001b[1m63/63\u001b[0m \u001b[32m━━━━━━━━━━━━━━━━━━━━\u001b[0m\u001b[37m\u001b[0m \u001b[1m2s\u001b[0m 7ms/step - loss: 0.9098 - mae: 0.7995 - val_loss: 0.7331 - val_mae: 0.7339\n",
      "Epoch 2/100\n",
      "\u001b[1m63/63\u001b[0m \u001b[32m━━━━━━━━━━━━━━━━━━━━\u001b[0m\u001b[37m\u001b[0m \u001b[1m0s\u001b[0m 4ms/step - loss: 0.6977 - mae: 0.7166 - val_loss: 0.7101 - val_mae: 0.7226\n",
      "Epoch 3/100\n",
      "\u001b[1m63/63\u001b[0m \u001b[32m━━━━━━━━━━━━━━━━━━━━\u001b[0m\u001b[37m\u001b[0m \u001b[1m0s\u001b[0m 4ms/step - loss: 0.6720 - mae: 0.7025 - val_loss: 0.7013 - val_mae: 0.7174\n",
      "Epoch 4/100\n",
      "\u001b[1m63/63\u001b[0m \u001b[32m━━━━━━━━━━━━━━━━━━━━\u001b[0m\u001b[37m\u001b[0m \u001b[1m0s\u001b[0m 4ms/step - loss: 0.6586 - mae: 0.6944 - val_loss: 0.7044 - val_mae: 0.7207\n",
      "Epoch 5/100\n",
      "\u001b[1m63/63\u001b[0m \u001b[32m━━━━━━━━━━━━━━━━━━━━\u001b[0m\u001b[37m\u001b[0m \u001b[1m0s\u001b[0m 4ms/step - loss: 0.6520 - mae: 0.6905 - val_loss: 0.7032 - val_mae: 0.7198\n",
      "Epoch 6/100\n",
      "\u001b[1m63/63\u001b[0m \u001b[32m━━━━━━━━━━━━━━━━━━━━\u001b[0m\u001b[37m\u001b[0m \u001b[1m0s\u001b[0m 4ms/step - loss: 0.6375 - mae: 0.6836 - val_loss: 0.6936 - val_mae: 0.7157\n",
      "Epoch 7/100\n",
      "\u001b[1m63/63\u001b[0m \u001b[32m━━━━━━━━━━━━━━━━━━━━\u001b[0m\u001b[37m\u001b[0m \u001b[1m0s\u001b[0m 4ms/step - loss: 0.6285 - mae: 0.6776 - val_loss: 0.6983 - val_mae: 0.7174\n",
      "Epoch 8/100\n",
      "\u001b[1m63/63\u001b[0m \u001b[32m━━━━━━━━━━━━━━━━━━━━\u001b[0m\u001b[37m\u001b[0m \u001b[1m0s\u001b[0m 4ms/step - loss: 0.6204 - mae: 0.6738 - val_loss: 0.7142 - val_mae: 0.7287\n",
      "Epoch 9/100\n",
      "\u001b[1m63/63\u001b[0m \u001b[32m━━━━━━━━━━━━━━━━━━━━\u001b[0m\u001b[37m\u001b[0m \u001b[1m0s\u001b[0m 4ms/step - loss: 0.6143 - mae: 0.6705 - val_loss: 0.7016 - val_mae: 0.7219\n",
      "Epoch 10/100\n",
      "\u001b[1m63/63\u001b[0m \u001b[32m━━━━━━━━━━━━━━━━━━━━\u001b[0m\u001b[37m\u001b[0m \u001b[1m0s\u001b[0m 4ms/step - loss: 0.6075 - mae: 0.6668 - val_loss: 0.7033 - val_mae: 0.7218\n",
      "Epoch 11/100\n",
      "\u001b[1m63/63\u001b[0m \u001b[32m━━━━━━━━━━━━━━━━━━━━\u001b[0m\u001b[37m\u001b[0m \u001b[1m0s\u001b[0m 4ms/step - loss: 0.5994 - mae: 0.6624 - val_loss: 0.7022 - val_mae: 0.7208\n",
      "Epoch 12/100\n",
      "\u001b[1m63/63\u001b[0m \u001b[32m━━━━━━━━━━━━━━━━━━━━\u001b[0m\u001b[37m\u001b[0m \u001b[1m0s\u001b[0m 4ms/step - loss: 0.5928 - mae: 0.6589 - val_loss: 0.6963 - val_mae: 0.7192\n",
      "Epoch 13/100\n",
      "\u001b[1m63/63\u001b[0m \u001b[32m━━━━━━━━━━━━━━━━━━━━\u001b[0m\u001b[37m\u001b[0m \u001b[1m0s\u001b[0m 4ms/step - loss: 0.5882 - mae: 0.6569 - val_loss: 0.6962 - val_mae: 0.7211\n",
      "Epoch 14/100\n",
      "\u001b[1m63/63\u001b[0m \u001b[32m━━━━━━━━━━━━━━━━━━━━\u001b[0m\u001b[37m\u001b[0m \u001b[1m0s\u001b[0m 4ms/step - loss: 0.5765 - mae: 0.6502 - val_loss: 0.7054 - val_mae: 0.7252\n",
      "Epoch 15/100\n",
      "\u001b[1m63/63\u001b[0m \u001b[32m━━━━━━━━━━━━━━━━━━━━\u001b[0m\u001b[37m\u001b[0m \u001b[1m0s\u001b[0m 4ms/step - loss: 0.5687 - mae: 0.6472 - val_loss: 0.7114 - val_mae: 0.7278\n",
      "Epoch 16/100\n",
      "\u001b[1m63/63\u001b[0m \u001b[32m━━━━━━━━━━━━━━━━━━━━\u001b[0m\u001b[37m\u001b[0m \u001b[1m0s\u001b[0m 4ms/step - loss: 0.5621 - mae: 0.6409 - val_loss: 0.7030 - val_mae: 0.7249\n",
      "Epoch 17/100\n",
      "\u001b[1m63/63\u001b[0m \u001b[32m━━━━━━━━━━━━━━━━━━━━\u001b[0m\u001b[37m\u001b[0m \u001b[1m0s\u001b[0m 5ms/step - loss: 0.5529 - mae: 0.6371 - val_loss: 0.7077 - val_mae: 0.7264\n",
      "Epoch 18/100\n",
      "\u001b[1m63/63\u001b[0m \u001b[32m━━━━━━━━━━━━━━━━━━━━\u001b[0m\u001b[37m\u001b[0m \u001b[1m0s\u001b[0m 4ms/step - loss: 0.5441 - mae: 0.6318 - val_loss: 0.7106 - val_mae: 0.7278\n",
      "Epoch 19/100\n",
      "\u001b[1m63/63\u001b[0m \u001b[32m━━━━━━━━━━━━━━━━━━━━\u001b[0m\u001b[37m\u001b[0m \u001b[1m0s\u001b[0m 4ms/step - loss: 0.5351 - mae: 0.6249 - val_loss: 0.7161 - val_mae: 0.7311\n",
      "Epoch 20/100\n",
      "\u001b[1m63/63\u001b[0m \u001b[32m━━━━━━━━━━━━━━━━━━━━\u001b[0m\u001b[37m\u001b[0m \u001b[1m0s\u001b[0m 4ms/step - loss: 0.5290 - mae: 0.6226 - val_loss: 0.7344 - val_mae: 0.7380\n",
      "Epoch 21/100\n",
      "\u001b[1m63/63\u001b[0m \u001b[32m━━━━━━━━━━━━━━━━━━━━\u001b[0m\u001b[37m\u001b[0m \u001b[1m0s\u001b[0m 5ms/step - loss: 0.5236 - mae: 0.6189 - val_loss: 0.7203 - val_mae: 0.7345\n",
      "Epoch 22/100\n",
      "\u001b[1m63/63\u001b[0m \u001b[32m━━━━━━━━━━━━━━━━━━━━\u001b[0m\u001b[37m\u001b[0m \u001b[1m0s\u001b[0m 4ms/step - loss: 0.5118 - mae: 0.6101 - val_loss: 0.7287 - val_mae: 0.7388\n",
      "Epoch 23/100\n",
      "\u001b[1m63/63\u001b[0m \u001b[32m━━━━━━━━━━━━━━━━━━━━\u001b[0m\u001b[37m\u001b[0m \u001b[1m0s\u001b[0m 4ms/step - loss: 0.5004 - mae: 0.6036 - val_loss: 0.7295 - val_mae: 0.7353\n",
      "Epoch 24/100\n",
      "\u001b[1m63/63\u001b[0m \u001b[32m━━━━━━━━━━━━━━━━━━━━\u001b[0m\u001b[37m\u001b[0m \u001b[1m0s\u001b[0m 5ms/step - loss: 0.4903 - mae: 0.5960 - val_loss: 0.7370 - val_mae: 0.7406\n",
      "Epoch 25/100\n",
      "\u001b[1m63/63\u001b[0m \u001b[32m━━━━━━━━━━━━━━━━━━━━\u001b[0m\u001b[37m\u001b[0m \u001b[1m0s\u001b[0m 5ms/step - loss: 0.4897 - mae: 0.5959 - val_loss: 0.7368 - val_mae: 0.7408\n",
      "Epoch 26/100\n",
      "\u001b[1m63/63\u001b[0m \u001b[32m━━━━━━━━━━━━━━━━━━━━\u001b[0m\u001b[37m\u001b[0m \u001b[1m0s\u001b[0m 4ms/step - loss: 0.4775 - mae: 0.5882 - val_loss: 0.7426 - val_mae: 0.7426\n",
      "Epoch 27/100\n",
      "\u001b[1m63/63\u001b[0m \u001b[32m━━━━━━━━━━━━━━━━━━━━\u001b[0m\u001b[37m\u001b[0m \u001b[1m0s\u001b[0m 5ms/step - loss: 0.4696 - mae: 0.5832 - val_loss: 0.7551 - val_mae: 0.7457\n",
      "Epoch 28/100\n",
      "\u001b[1m63/63\u001b[0m \u001b[32m━━━━━━━━━━━━━━━━━━━━\u001b[0m\u001b[37m\u001b[0m \u001b[1m0s\u001b[0m 4ms/step - loss: 0.4587 - mae: 0.5748 - val_loss: 0.7630 - val_mae: 0.7540\n",
      "Epoch 29/100\n",
      "\u001b[1m63/63\u001b[0m \u001b[32m━━━━━━━━━━━━━━━━━━━━\u001b[0m\u001b[37m\u001b[0m \u001b[1m0s\u001b[0m 5ms/step - loss: 0.4484 - mae: 0.5675 - val_loss: 0.7578 - val_mae: 0.7483\n",
      "Epoch 30/100\n",
      "\u001b[1m63/63\u001b[0m \u001b[32m━━━━━━━━━━━━━━━━━━━━\u001b[0m\u001b[37m\u001b[0m \u001b[1m0s\u001b[0m 5ms/step - loss: 0.4463 - mae: 0.5655 - val_loss: 0.7745 - val_mae: 0.7533\n",
      "Epoch 31/100\n",
      "\u001b[1m63/63\u001b[0m \u001b[32m━━━━━━━━━━━━━━━━━━━━\u001b[0m\u001b[37m\u001b[0m \u001b[1m0s\u001b[0m 5ms/step - loss: 0.4375 - mae: 0.5580 - val_loss: 0.7761 - val_mae: 0.7525\n",
      "Epoch 32/100\n",
      "\u001b[1m63/63\u001b[0m \u001b[32m━━━━━━━━━━━━━━━━━━━━\u001b[0m\u001b[37m\u001b[0m \u001b[1m0s\u001b[0m 5ms/step - loss: 0.4294 - mae: 0.5536 - val_loss: 0.7810 - val_mae: 0.7606\n",
      "Epoch 33/100\n",
      "\u001b[1m63/63\u001b[0m \u001b[32m━━━━━━━━━━━━━━━━━━━━\u001b[0m\u001b[37m\u001b[0m \u001b[1m0s\u001b[0m 4ms/step - loss: 0.4206 - mae: 0.5481 - val_loss: 0.7856 - val_mae: 0.7596\n",
      "Epoch 34/100\n",
      "\u001b[1m63/63\u001b[0m \u001b[32m━━━━━━━━━━━━━━━━━━━━\u001b[0m\u001b[37m\u001b[0m \u001b[1m1s\u001b[0m 7ms/step - loss: 0.4153 - mae: 0.5414 - val_loss: 0.7831 - val_mae: 0.7599\n",
      "Epoch 35/100\n",
      "\u001b[1m63/63\u001b[0m \u001b[32m━━━━━━━━━━━━━━━━━━━━\u001b[0m\u001b[37m\u001b[0m \u001b[1m0s\u001b[0m 4ms/step - loss: 0.4039 - mae: 0.5355 - val_loss: 0.7886 - val_mae: 0.7634\n",
      "Epoch 36/100\n",
      "\u001b[1m63/63\u001b[0m \u001b[32m━━━━━━━━━━━━━━━━━━━━\u001b[0m\u001b[37m\u001b[0m \u001b[1m0s\u001b[0m 5ms/step - loss: 0.3999 - mae: 0.5305 - val_loss: 0.7953 - val_mae: 0.7646\n",
      "Epoch 37/100\n",
      "\u001b[1m63/63\u001b[0m \u001b[32m━━━━━━━━━━━━━━━━━━━━\u001b[0m\u001b[37m\u001b[0m \u001b[1m0s\u001b[0m 5ms/step - loss: 0.3942 - mae: 0.5278 - val_loss: 0.8110 - val_mae: 0.7673\n",
      "Epoch 38/100\n",
      "\u001b[1m63/63\u001b[0m \u001b[32m━━━━━━━━━━━━━━━━━━━━\u001b[0m\u001b[37m\u001b[0m \u001b[1m0s\u001b[0m 5ms/step - loss: 0.3822 - mae: 0.5162 - val_loss: 0.8053 - val_mae: 0.7681\n",
      "Epoch 39/100\n",
      "\u001b[1m63/63\u001b[0m \u001b[32m━━━━━━━━━━━━━━━━━━━━\u001b[0m\u001b[37m\u001b[0m \u001b[1m0s\u001b[0m 6ms/step - loss: 0.3769 - mae: 0.5129 - val_loss: 0.8220 - val_mae: 0.7782\n",
      "Epoch 40/100\n",
      "\u001b[1m63/63\u001b[0m \u001b[32m━━━━━━━━━━━━━━━━━━━━\u001b[0m\u001b[37m\u001b[0m \u001b[1m0s\u001b[0m 5ms/step - loss: 0.3722 - mae: 0.5092 - val_loss: 0.8213 - val_mae: 0.7736\n",
      "Epoch 41/100\n",
      "\u001b[1m63/63\u001b[0m \u001b[32m━━━━━━━━━━━━━━━━━━━━\u001b[0m\u001b[37m\u001b[0m \u001b[1m1s\u001b[0m 4ms/step - loss: 0.3635 - mae: 0.5022 - val_loss: 0.8293 - val_mae: 0.7751\n",
      "Epoch 42/100\n",
      "\u001b[1m63/63\u001b[0m \u001b[32m━━━━━━━━━━━━━━━━━━━━\u001b[0m\u001b[37m\u001b[0m \u001b[1m0s\u001b[0m 4ms/step - loss: 0.3564 - mae: 0.4965 - val_loss: 0.8228 - val_mae: 0.7713\n",
      "Epoch 43/100\n",
      "\u001b[1m63/63\u001b[0m \u001b[32m━━━━━━━━━━━━━━━━━━━━\u001b[0m\u001b[37m\u001b[0m \u001b[1m0s\u001b[0m 5ms/step - loss: 0.3480 - mae: 0.4901 - val_loss: 0.8313 - val_mae: 0.7786\n",
      "Epoch 44/100\n",
      "\u001b[1m63/63\u001b[0m \u001b[32m━━━━━━━━━━━━━━━━━━━━\u001b[0m\u001b[37m\u001b[0m \u001b[1m0s\u001b[0m 4ms/step - loss: 0.3416 - mae: 0.4835 - val_loss: 0.8407 - val_mae: 0.7810\n",
      "Epoch 45/100\n",
      "\u001b[1m63/63\u001b[0m \u001b[32m━━━━━━━━━━━━━━━━━━━━\u001b[0m\u001b[37m\u001b[0m \u001b[1m0s\u001b[0m 6ms/step - loss: 0.3383 - mae: 0.4843 - val_loss: 0.8543 - val_mae: 0.7810\n",
      "Epoch 46/100\n",
      "\u001b[1m63/63\u001b[0m \u001b[32m━━━━━━━━━━━━━━━━━━━━\u001b[0m\u001b[37m\u001b[0m \u001b[1m0s\u001b[0m 4ms/step - loss: 0.3287 - mae: 0.4716 - val_loss: 0.8565 - val_mae: 0.7861\n",
      "Epoch 47/100\n",
      "\u001b[1m63/63\u001b[0m \u001b[32m━━━━━━━━━━━━━━━━━━━━\u001b[0m\u001b[37m\u001b[0m \u001b[1m0s\u001b[0m 4ms/step - loss: 0.3241 - mae: 0.4696 - val_loss: 0.8543 - val_mae: 0.7846\n",
      "Epoch 48/100\n",
      "\u001b[1m63/63\u001b[0m \u001b[32m━━━━━━━━━━━━━━━━━━━━\u001b[0m\u001b[37m\u001b[0m \u001b[1m0s\u001b[0m 4ms/step - loss: 0.3141 - mae: 0.4612 - val_loss: 0.8716 - val_mae: 0.7882\n",
      "Epoch 49/100\n",
      "\u001b[1m63/63\u001b[0m \u001b[32m━━━━━━━━━━━━━━━━━━━━\u001b[0m\u001b[37m\u001b[0m \u001b[1m0s\u001b[0m 5ms/step - loss: 0.3146 - mae: 0.4604 - val_loss: 0.8708 - val_mae: 0.7931\n",
      "Epoch 50/100\n",
      "\u001b[1m63/63\u001b[0m \u001b[32m━━━━━━━━━━━━━━━━━━━━\u001b[0m\u001b[37m\u001b[0m \u001b[1m0s\u001b[0m 4ms/step - loss: 0.3041 - mae: 0.4531 - val_loss: 0.8860 - val_mae: 0.7948\n",
      "Epoch 51/100\n",
      "\u001b[1m63/63\u001b[0m \u001b[32m━━━━━━━━━━━━━━━━━━━━\u001b[0m\u001b[37m\u001b[0m \u001b[1m0s\u001b[0m 4ms/step - loss: 0.3028 - mae: 0.4522 - val_loss: 0.8910 - val_mae: 0.7959\n",
      "Epoch 52/100\n",
      "\u001b[1m63/63\u001b[0m \u001b[32m━━━━━━━━━━━━━━━━━━━━\u001b[0m\u001b[37m\u001b[0m \u001b[1m0s\u001b[0m 4ms/step - loss: 0.3008 - mae: 0.4476 - val_loss: 0.8913 - val_mae: 0.7934\n",
      "Epoch 53/100\n",
      "\u001b[1m63/63\u001b[0m \u001b[32m━━━━━━━━━━━━━━━━━━━━\u001b[0m\u001b[37m\u001b[0m \u001b[1m0s\u001b[0m 4ms/step - loss: 0.2916 - mae: 0.4422 - val_loss: 0.9114 - val_mae: 0.8046\n",
      "Epoch 54/100\n",
      "\u001b[1m63/63\u001b[0m \u001b[32m━━━━━━━━━━━━━━━━━━━━\u001b[0m\u001b[37m\u001b[0m \u001b[1m0s\u001b[0m 5ms/step - loss: 0.2866 - mae: 0.4356 - val_loss: 0.8942 - val_mae: 0.8035\n",
      "Epoch 55/100\n",
      "\u001b[1m63/63\u001b[0m \u001b[32m━━━━━━━━━━━━━━━━━━━━\u001b[0m\u001b[37m\u001b[0m \u001b[1m0s\u001b[0m 4ms/step - loss: 0.2833 - mae: 0.4333 - val_loss: 0.9101 - val_mae: 0.8051\n",
      "Epoch 56/100\n",
      "\u001b[1m63/63\u001b[0m \u001b[32m━━━━━━━━━━━━━━━━━━━━\u001b[0m\u001b[37m\u001b[0m \u001b[1m0s\u001b[0m 4ms/step - loss: 0.2714 - mae: 0.4254 - val_loss: 0.9160 - val_mae: 0.8080\n",
      "Epoch 57/100\n",
      "\u001b[1m63/63\u001b[0m \u001b[32m━━━━━━━━━━━━━━━━━━━━\u001b[0m\u001b[37m\u001b[0m \u001b[1m0s\u001b[0m 5ms/step - loss: 0.2717 - mae: 0.4226 - val_loss: 0.9242 - val_mae: 0.8090\n",
      "Epoch 58/100\n",
      "\u001b[1m63/63\u001b[0m \u001b[32m━━━━━━━━━━━━━━━━━━━━\u001b[0m\u001b[37m\u001b[0m \u001b[1m0s\u001b[0m 4ms/step - loss: 0.2629 - mae: 0.4145 - val_loss: 0.9213 - val_mae: 0.8069\n",
      "Epoch 59/100\n",
      "\u001b[1m63/63\u001b[0m \u001b[32m━━━━━━━━━━━━━━━━━━━━\u001b[0m\u001b[37m\u001b[0m \u001b[1m0s\u001b[0m 5ms/step - loss: 0.2620 - mae: 0.4143 - val_loss: 0.9286 - val_mae: 0.8144\n",
      "Epoch 60/100\n",
      "\u001b[1m63/63\u001b[0m \u001b[32m━━━━━━━━━━━━━━━━━━━━\u001b[0m\u001b[37m\u001b[0m \u001b[1m0s\u001b[0m 4ms/step - loss: 0.2596 - mae: 0.4124 - val_loss: 0.9179 - val_mae: 0.8071\n",
      "Epoch 61/100\n",
      "\u001b[1m63/63\u001b[0m \u001b[32m━━━━━━━━━━━━━━━━━━━━\u001b[0m\u001b[37m\u001b[0m \u001b[1m0s\u001b[0m 4ms/step - loss: 0.2542 - mae: 0.4088 - val_loss: 0.9415 - val_mae: 0.8141\n",
      "Epoch 62/100\n",
      "\u001b[1m63/63\u001b[0m \u001b[32m━━━━━━━━━━━━━━━━━━━━\u001b[0m\u001b[37m\u001b[0m \u001b[1m0s\u001b[0m 5ms/step - loss: 0.2519 - mae: 0.4047 - val_loss: 0.9439 - val_mae: 0.8151\n",
      "Epoch 63/100\n",
      "\u001b[1m63/63\u001b[0m \u001b[32m━━━━━━━━━━━━━━━━━━━━\u001b[0m\u001b[37m\u001b[0m \u001b[1m0s\u001b[0m 4ms/step - loss: 0.2432 - mae: 0.3969 - val_loss: 0.9329 - val_mae: 0.8121\n",
      "Epoch 64/100\n",
      "\u001b[1m63/63\u001b[0m \u001b[32m━━━━━━━━━━━━━━━━━━━━\u001b[0m\u001b[37m\u001b[0m \u001b[1m0s\u001b[0m 4ms/step - loss: 0.2397 - mae: 0.3934 - val_loss: 0.9419 - val_mae: 0.8174\n",
      "Epoch 65/100\n",
      "\u001b[1m63/63\u001b[0m \u001b[32m━━━━━━━━━━━━━━━━━━━━\u001b[0m\u001b[37m\u001b[0m \u001b[1m0s\u001b[0m 5ms/step - loss: 0.2340 - mae: 0.3896 - val_loss: 0.9619 - val_mae: 0.8260\n",
      "Epoch 66/100\n",
      "\u001b[1m63/63\u001b[0m \u001b[32m━━━━━━━━━━━━━━━━━━━━\u001b[0m\u001b[37m\u001b[0m \u001b[1m0s\u001b[0m 5ms/step - loss: 0.2329 - mae: 0.3878 - val_loss: 0.9636 - val_mae: 0.8260\n",
      "Epoch 67/100\n",
      "\u001b[1m63/63\u001b[0m \u001b[32m━━━━━━━━━━━━━━━━━━━━\u001b[0m\u001b[37m\u001b[0m \u001b[1m0s\u001b[0m 4ms/step - loss: 0.2295 - mae: 0.3848 - val_loss: 0.9849 - val_mae: 0.8293\n",
      "Epoch 68/100\n",
      "\u001b[1m63/63\u001b[0m \u001b[32m━━━━━━━━━━━━━━━━━━━━\u001b[0m\u001b[37m\u001b[0m \u001b[1m0s\u001b[0m 4ms/step - loss: 0.2225 - mae: 0.3775 - val_loss: 0.9800 - val_mae: 0.8319\n",
      "Epoch 69/100\n",
      "\u001b[1m63/63\u001b[0m \u001b[32m━━━━━━━━━━━━━━━━━━━━\u001b[0m\u001b[37m\u001b[0m \u001b[1m0s\u001b[0m 4ms/step - loss: 0.2247 - mae: 0.3817 - val_loss: 0.9771 - val_mae: 0.8319\n",
      "Epoch 70/100\n",
      "\u001b[1m63/63\u001b[0m \u001b[32m━━━━━━━━━━━━━━━━━━━━\u001b[0m\u001b[37m\u001b[0m \u001b[1m0s\u001b[0m 4ms/step - loss: 0.2177 - mae: 0.3744 - val_loss: 1.0005 - val_mae: 0.8396\n",
      "Epoch 71/100\n",
      "\u001b[1m63/63\u001b[0m \u001b[32m━━━━━━━━━━━━━━━━━━━━\u001b[0m\u001b[37m\u001b[0m \u001b[1m0s\u001b[0m 5ms/step - loss: 0.2170 - mae: 0.3723 - val_loss: 0.9847 - val_mae: 0.8339\n",
      "Epoch 72/100\n",
      "\u001b[1m63/63\u001b[0m \u001b[32m━━━━━━━━━━━━━━━━━━━━\u001b[0m\u001b[37m\u001b[0m \u001b[1m0s\u001b[0m 4ms/step - loss: 0.2177 - mae: 0.3756 - val_loss: 0.9883 - val_mae: 0.8347\n",
      "Epoch 73/100\n",
      "\u001b[1m63/63\u001b[0m \u001b[32m━━━━━━━━━━━━━━━━━━━━\u001b[0m\u001b[37m\u001b[0m \u001b[1m0s\u001b[0m 6ms/step - loss: 0.2057 - mae: 0.3618 - val_loss: 0.9935 - val_mae: 0.8386\n",
      "Epoch 74/100\n",
      "\u001b[1m63/63\u001b[0m \u001b[32m━━━━━━━━━━━━━━━━━━━━\u001b[0m\u001b[37m\u001b[0m \u001b[1m0s\u001b[0m 4ms/step - loss: 0.2071 - mae: 0.3626 - val_loss: 0.9848 - val_mae: 0.8349\n",
      "Epoch 75/100\n",
      "\u001b[1m63/63\u001b[0m \u001b[32m━━━━━━━━━━━━━━━━━━━━\u001b[0m\u001b[37m\u001b[0m \u001b[1m0s\u001b[0m 4ms/step - loss: 0.2043 - mae: 0.3598 - val_loss: 1.0144 - val_mae: 0.8408\n",
      "Epoch 76/100\n",
      "\u001b[1m63/63\u001b[0m \u001b[32m━━━━━━━━━━━━━━━━━━━━\u001b[0m\u001b[37m\u001b[0m \u001b[1m0s\u001b[0m 4ms/step - loss: 0.1986 - mae: 0.3553 - val_loss: 0.9963 - val_mae: 0.8355\n",
      "Epoch 77/100\n",
      "\u001b[1m63/63\u001b[0m \u001b[32m━━━━━━━━━━━━━━━━━━━━\u001b[0m\u001b[37m\u001b[0m \u001b[1m0s\u001b[0m 4ms/step - loss: 0.1953 - mae: 0.3511 - val_loss: 1.0214 - val_mae: 0.8450\n",
      "Epoch 78/100\n",
      "\u001b[1m63/63\u001b[0m \u001b[32m━━━━━━━━━━━━━━━━━━━━\u001b[0m\u001b[37m\u001b[0m \u001b[1m0s\u001b[0m 5ms/step - loss: 0.1947 - mae: 0.3513 - val_loss: 1.0185 - val_mae: 0.8433\n",
      "Epoch 79/100\n",
      "\u001b[1m63/63\u001b[0m \u001b[32m━━━━━━━━━━━━━━━━━━━━\u001b[0m\u001b[37m\u001b[0m \u001b[1m0s\u001b[0m 5ms/step - loss: 0.1990 - mae: 0.3529 - val_loss: 1.0334 - val_mae: 0.8474\n",
      "Epoch 80/100\n",
      "\u001b[1m63/63\u001b[0m \u001b[32m━━━━━━━━━━━━━━━━━━━━\u001b[0m\u001b[37m\u001b[0m \u001b[1m0s\u001b[0m 5ms/step - loss: 0.1936 - mae: 0.3513 - val_loss: 1.0223 - val_mae: 0.8461\n",
      "Epoch 81/100\n",
      "\u001b[1m63/63\u001b[0m \u001b[32m━━━━━━━━━━━━━━━━━━━━\u001b[0m\u001b[37m\u001b[0m \u001b[1m0s\u001b[0m 4ms/step - loss: 0.1866 - mae: 0.3443 - val_loss: 1.0319 - val_mae: 0.8496\n",
      "Epoch 82/100\n",
      "\u001b[1m63/63\u001b[0m \u001b[32m━━━━━━━━━━━━━━━━━━━━\u001b[0m\u001b[37m\u001b[0m \u001b[1m0s\u001b[0m 6ms/step - loss: 0.1829 - mae: 0.3388 - val_loss: 1.0282 - val_mae: 0.8445\n",
      "Epoch 83/100\n",
      "\u001b[1m63/63\u001b[0m \u001b[32m━━━━━━━━━━━━━━━━━━━━\u001b[0m\u001b[37m\u001b[0m \u001b[1m0s\u001b[0m 4ms/step - loss: 0.1835 - mae: 0.3415 - val_loss: 1.0321 - val_mae: 0.8454\n",
      "Epoch 84/100\n",
      "\u001b[1m63/63\u001b[0m \u001b[32m━━━━━━━━━━━━━━━━━━━━\u001b[0m\u001b[37m\u001b[0m \u001b[1m1s\u001b[0m 6ms/step - loss: 0.1791 - mae: 0.3376 - val_loss: 1.0235 - val_mae: 0.8442\n",
      "Epoch 85/100\n",
      "\u001b[1m63/63\u001b[0m \u001b[32m━━━━━━━━━━━━━━━━━━━━\u001b[0m\u001b[37m\u001b[0m \u001b[1m0s\u001b[0m 5ms/step - loss: 0.1789 - mae: 0.3356 - val_loss: 1.0472 - val_mae: 0.8514\n",
      "Epoch 86/100\n",
      "\u001b[1m63/63\u001b[0m \u001b[32m━━━━━━━━━━━━━━━━━━━━\u001b[0m\u001b[37m\u001b[0m \u001b[1m0s\u001b[0m 5ms/step - loss: 0.1761 - mae: 0.3333 - val_loss: 1.0411 - val_mae: 0.8515\n",
      "Epoch 87/100\n",
      "\u001b[1m63/63\u001b[0m \u001b[32m━━━━━━━━━━━━━━━━━━━━\u001b[0m\u001b[37m\u001b[0m \u001b[1m0s\u001b[0m 4ms/step - loss: 0.1766 - mae: 0.3340 - val_loss: 1.0474 - val_mae: 0.8529\n",
      "Epoch 88/100\n",
      "\u001b[1m63/63\u001b[0m \u001b[32m━━━━━━━━━━━━━━━━━━━━\u001b[0m\u001b[37m\u001b[0m \u001b[1m0s\u001b[0m 5ms/step - loss: 0.1708 - mae: 0.3281 - val_loss: 1.0573 - val_mae: 0.8573\n",
      "Epoch 89/100\n",
      "\u001b[1m63/63\u001b[0m \u001b[32m━━━━━━━━━━━━━━━━━━━━\u001b[0m\u001b[37m\u001b[0m \u001b[1m1s\u001b[0m 8ms/step - loss: 0.1672 - mae: 0.3244 - val_loss: 1.0652 - val_mae: 0.8555\n",
      "Epoch 90/100\n",
      "\u001b[1m63/63\u001b[0m \u001b[32m━━━━━━━━━━━━━━━━━━━━\u001b[0m\u001b[37m\u001b[0m \u001b[1m0s\u001b[0m 7ms/step - loss: 0.1665 - mae: 0.3230 - val_loss: 1.0587 - val_mae: 0.8546\n",
      "Epoch 91/100\n",
      "\u001b[1m63/63\u001b[0m \u001b[32m━━━━━━━━━━━━━━━━━━━━\u001b[0m\u001b[37m\u001b[0m \u001b[1m0s\u001b[0m 6ms/step - loss: 0.1631 - mae: 0.3223 - val_loss: 1.0820 - val_mae: 0.8633\n",
      "Epoch 92/100\n",
      "\u001b[1m63/63\u001b[0m \u001b[32m━━━━━━━━━━━━━━━━━━━━\u001b[0m\u001b[37m\u001b[0m \u001b[1m0s\u001b[0m 6ms/step - loss: 0.1615 - mae: 0.3158 - val_loss: 1.0870 - val_mae: 0.8603\n",
      "Epoch 93/100\n",
      "\u001b[1m63/63\u001b[0m \u001b[32m━━━━━━━━━━━━━━━━━━━━\u001b[0m\u001b[37m\u001b[0m \u001b[1m0s\u001b[0m 4ms/step - loss: 0.1580 - mae: 0.3149 - val_loss: 1.0884 - val_mae: 0.8646\n",
      "Epoch 94/100\n",
      "\u001b[1m63/63\u001b[0m \u001b[32m━━━━━━━━━━━━━━━━━━━━\u001b[0m\u001b[37m\u001b[0m \u001b[1m0s\u001b[0m 4ms/step - loss: 0.1565 - mae: 0.3117 - val_loss: 1.0792 - val_mae: 0.8675\n",
      "Epoch 95/100\n",
      "\u001b[1m63/63\u001b[0m \u001b[32m━━━━━━━━━━━━━━━━━━━━\u001b[0m\u001b[37m\u001b[0m \u001b[1m0s\u001b[0m 6ms/step - loss: 0.1529 - mae: 0.3102 - val_loss: 1.0845 - val_mae: 0.8620\n",
      "Epoch 96/100\n",
      "\u001b[1m63/63\u001b[0m \u001b[32m━━━━━━━━━━━━━━━━━━━━\u001b[0m\u001b[37m\u001b[0m \u001b[1m0s\u001b[0m 4ms/step - loss: 0.1512 - mae: 0.3067 - val_loss: 1.0949 - val_mae: 0.8670\n",
      "Epoch 97/100\n",
      "\u001b[1m63/63\u001b[0m \u001b[32m━━━━━━━━━━━━━━━━━━━━\u001b[0m\u001b[37m\u001b[0m \u001b[1m0s\u001b[0m 5ms/step - loss: 0.1484 - mae: 0.3056 - val_loss: 1.0877 - val_mae: 0.8659\n",
      "Epoch 98/100\n",
      "\u001b[1m63/63\u001b[0m \u001b[32m━━━━━━━━━━━━━━━━━━━━\u001b[0m\u001b[37m\u001b[0m \u001b[1m0s\u001b[0m 6ms/step - loss: 0.1502 - mae: 0.3066 - val_loss: 1.1047 - val_mae: 0.8725\n",
      "Epoch 99/100\n",
      "\u001b[1m63/63\u001b[0m \u001b[32m━━━━━━━━━━━━━━━━━━━━\u001b[0m\u001b[37m\u001b[0m \u001b[1m0s\u001b[0m 4ms/step - loss: 0.1469 - mae: 0.3019 - val_loss: 1.1228 - val_mae: 0.8747\n",
      "Epoch 100/100\n",
      "\u001b[1m63/63\u001b[0m \u001b[32m━━━━━━━━━━━━━━━━━━━━\u001b[0m\u001b[37m\u001b[0m \u001b[1m0s\u001b[0m 5ms/step - loss: 0.1462 - mae: 0.3031 - val_loss: 1.1091 - val_mae: 0.8708\n"
     ]
    }
   ],
   "source": [
    "history = model.fit(\n",
    "    X_train_scaled,\n",
    "    y_train,\n",
    "    validation_split=0.2,\n",
    "    epochs=100,\n",
    "    batch_size=32\n",
    ")\n"
   ]
  },
  {
   "cell_type": "code",
   "execution_count": 31,
   "id": "3dd9c1ed",
   "metadata": {},
   "outputs": [
    {
     "name": "stdout",
     "output_type": "stream",
     "text": [
      "\u001b[1m79/79\u001b[0m \u001b[32m━━━━━━━━━━━━━━━━━━━━\u001b[0m\u001b[37m\u001b[0m \u001b[1m0s\u001b[0m 2ms/step - loss: 1.2639 - mae: 0.9301\n",
      "Test MAE:0.9300910234451294\n"
     ]
    }
   ],
   "source": [
    "loss, mae = model.evaluate(X_test_scaled, y_test)\n",
    "print(f\"Test MAE:{mae}\")"
   ]
  },
  {
   "cell_type": "code",
   "execution_count": 32,
   "id": "cde2ead7",
   "metadata": {},
   "outputs": [],
   "source": [
    "##model.save(\"Kidney_dialysis_datamodel.h5\")\n",
    "model.save(\"Kidney_dialysis_datamodel.keras\")  \n"
   ]
  },
  {
   "cell_type": "code",
   "execution_count": 33,
   "id": "12cce302",
   "metadata": {},
   "outputs": [
    {
     "data": {
      "text/plain": [
       "['scaler.pkl']"
      ]
     },
     "execution_count": 33,
     "metadata": {},
     "output_type": "execute_result"
    }
   ],
   "source": [
    "import joblib\n",
    "joblib.dump(scaler, \"scaler.pkl\")"
   ]
  },
  {
   "cell_type": "code",
   "execution_count": null,
   "id": "0482df03",
   "metadata": {},
   "outputs": [],
   "source": []
  }